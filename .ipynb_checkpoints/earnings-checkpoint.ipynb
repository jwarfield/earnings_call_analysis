{
 "cells": [
  {
   "cell_type": "code",
   "execution_count": 433,
   "metadata": {},
   "outputs": [],
   "source": [
    "import os\n",
    "import pandas as pd\n",
    "import time\n",
    "import nltk\n",
    "import re\n",
    "import sys\n",
    "from nltk.tokenize import word_tokenize\n",
    "from collections import Counter\n",
    "from matplotlib import pyplot as plt\n",
    "from csv import reader "
   ]
  },
  {
   "cell_type": "markdown",
   "metadata": {},
   "source": [
    "# Load Data\n",
    "Loads data from earnings calls .txt files taken from Seeking Alpha with a pro account. \n",
    "\n",
    "Creates a chronological list of dictionaries with entries: filepath, stock ticker, year, quarter, unedited text content, list of tokens, counter of word frequency.\n"
   ]
  },
  {
   "cell_type": "code",
   "execution_count": 434,
   "metadata": {},
   "outputs": [],
   "source": [
    "#input: unedited earnings calls from .txt files (type string)\n",
    "#output: uniformly lowercase string with some stop word/stop phrases removed (type string)\n",
    "def pre_process(text):\n",
    "    result = str.lower(text)\n",
    "    result = re.sub(r\"(good morning( everyone)*)\", \"\", result)\n",
    "    result = re.sub(r\"(thank you)\", \"\", result)\n",
    "    result = re.sub(r\"(thank(s)*)\", \"\", result)\n",
    "    return result"
   ]
  },
  {
   "cell_type": "code",
   "execution_count": 435,
   "metadata": {},
   "outputs": [],
   "source": [
    "#input: string text\n",
    "#output: ordered list of all words in text, Counter object (word -> count of that word map)\n",
    "#of all word tokens in the earnings call\n",
    "def find_and_count_tokens(text):\n",
    "    word_pattern = re.compile(\"\\w[\\w\\-\\']*\\w|\\w\")\n",
    "    tokens = word_pattern.findall(text)\n",
    "    counts = Counter(tokens)\n",
    "    return tokens, counts"
   ]
  },
  {
   "cell_type": "code",
   "execution_count": 541,
   "metadata": {},
   "outputs": [],
   "source": [
    "year_vec = [str(i) for i in range(2010,2021)]\n",
    "quarter_vec = ['q1', 'q2', 'q3', 'q4']"
   ]
  },
  {
   "cell_type": "code",
   "execution_count": 545,
   "metadata": {},
   "outputs": [],
   "source": [
    "#format txt documents into dictionaries => file_name, ticker, date, time, year, quarter, content, counter\n",
    "call_list = []\n",
    "for year in year_vec:\n",
    "    for quarter in quarter_vec:\n",
    "        fn = str('raw_data/kr/' + 'kr_' + year + \"_\" + quarter + '.txt')\n",
    "        if os.path.isfile(fn):\n",
    "            d = {}\n",
    "            d[\"filepath\"] = fn\n",
    "            word_pattern = re.compile(\"/[a-z]*/\")\n",
    "            tik = str(word_pattern.findall(fn))\n",
    "            tik = s[3:-3]\n",
    "            d[\"ticker\"] = tik\n",
    "            d[\"year\"] = year\n",
    "            d[\"quarter\"] = quarter\n",
    "            file = open(fn)\n",
    "            text = file.read()\n",
    "            pre_processed_text = pre_process(text)\n",
    "            d[\"content\"] = pre_processed_text\n",
    "            tokens, counts = find_and_count_tokens(pre_processed_text)\n",
    "            d[\"tokens\"] = tokens\n",
    "            d[\"counter\"] = counts\n",
    "            call_list.append(d)"
   ]
  },
  {
   "cell_type": "code",
   "execution_count": 645,
   "metadata": {
    "scrolled": true
   },
   "outputs": [
    {
     "name": "stdout",
     "output_type": "stream",
     "text": [
      "Number of earnings calls: 40\n",
      "Most common words in one call: [('the', 564), ('to', 344), ('and', 331), ('we', 307), ('that', 289), ('of', 282), ('in', 266), ('a', 222), ('our', 194), ('you', 193)]\n"
     ]
    }
   ],
   "source": [
    "x = len(call_list)\n",
    "print(\"Number of earnings calls:\", x)\n",
    "test = call_list[0]\n",
    "counter = test[\"counter\"]\n",
    "lst = test[\"tokens\"]\n",
    "print(\"Most common words in one call:\", counter.most_common()[:10])"
   ]
  },
  {
   "cell_type": "code",
   "execution_count": 688,
   "metadata": {},
   "outputs": [
    {
     "name": "stdout",
     "output_type": "stream",
     "text": [
      "2010 q3 3\n",
      "2010 q4 1\n",
      "2011 q1 0\n",
      "2011 q2 0\n",
      "2011 q3 2\n",
      "2011 q4 3\n",
      "2012 q1 2\n",
      "2012 q2 0\n",
      "2012 q3 2\n",
      "2012 q4 4\n",
      "2013 q1 0\n",
      "2013 q2 0\n",
      "2013 q3 0\n",
      "2013 q4 2\n",
      "2014 q1 8\n",
      "2014 q2 1\n",
      "2014 q3 1\n",
      "2014 q4 5\n",
      "2015 q1 0\n",
      "2015 q2 1\n",
      "2015 q3 0\n",
      "2015 q4 2\n",
      "2016 q1 4\n",
      "2016 q2 0\n",
      "2016 q3 0\n",
      "2016 q4 2\n",
      "2017 q1 0\n",
      "2017 q2 1\n",
      "2017 q3 1\n",
      "2017 q4 0\n",
      "2018 q1 1\n",
      "2018 q2 0\n",
      "2018 q3 0\n",
      "2018 q4 0\n",
      "2019 q1 0\n",
      "2019 q2 1\n",
      "2019 q3 0\n",
      "2019 q4 0\n",
      "2020 q1 0\n",
      "2020 q2 0\n"
     ]
    }
   ],
   "source": [
    "for call in call_list:\n",
    "    counter = call[\"counter\"]\n",
    "    print(call[\"year\"], call[\"quarter\"], counter[\"buyback\"])"
   ]
  },
  {
   "cell_type": "code",
   "execution_count": 689,
   "metadata": {},
   "outputs": [
    {
     "name": "stdout",
     "output_type": "stream",
     "text": [
      "12574\n"
     ]
    }
   ],
   "source": []
  },
  {
   "cell_type": "markdown",
   "metadata": {},
   "source": [
    "# Load Sentiment Word Lists\n",
    "Import sentiment weighted words into lists from the widely used financial term list: Loughran and McDonald (2018). Also load an CMU created asset from the NLTK library that is useful for later measuring syllable count in words.\n",
    "\n",
    "Uncertain refers to words that carry ambiguity and lack absolute measure.\n",
    "\n",
    "Litigious is a proxy for word complexity. "
   ]
  },
  {
   "cell_type": "code",
   "execution_count": 646,
   "metadata": {},
   "outputs": [],
   "source": [
    "def load_sentiment_list(fn):\n",
    "    file = open(fn)\n",
    "    content = file.read()\n",
    "    content = content.lower()\n",
    "    result = content.split(\"\\n\")\n",
    "    return result"
   ]
  },
  {
   "cell_type": "code",
   "execution_count": 647,
   "metadata": {},
   "outputs": [],
   "source": [
    "pos_list = load_sentiment_list(\"pos.csv\")\n",
    "neg_list = load_sentiment_list(\"neg.csv\")\n",
    "uncertain_list = load_sentiment_list(\"uncertain.csv\")\n",
    "litigious_list = load_sentiment_list(\"litigious.csv\")"
   ]
  },
  {
   "cell_type": "code",
   "execution_count": 648,
   "metadata": {},
   "outputs": [],
   "source": [
    "negation_list = ['no', 'not', 'none', 'neither', 'never', 'nobody']\n",
    "punctuation_string = \"!#$%&\\'()*+,./:;<=>?@[\\\\]^_`{|}~\""
   ]
  },
  {
   "cell_type": "code",
   "execution_count": 649,
   "metadata": {},
   "outputs": [
    {
     "name": "stdout",
     "output_type": "stream",
     "text": [
      "Positive Examples: ['able', 'abundance', 'abundant', 'acclaimed', 'accomplish', 'accomplished', 'accomplishes', 'accomplishing', 'accomplishment', 'accomplishments'] \n",
      "\n",
      "Negative Examples: ['abandon', 'abandoned', 'abandoning', 'abandonment', 'abandonments', 'abandons', 'abdicated', 'abdicates', 'abdicating', 'abdication'] \n",
      "\n",
      "Uncertain Examples: ['abeyance', 'abeyances', 'almost', 'alteration', 'alterations', 'ambiguities', 'ambiguity', 'ambiguous', 'anomalies', 'anomalous'] \n",
      "\n",
      "Litigious Examples: ['abovementioned', 'abrogate', 'abrogated', 'abrogates', 'abrogating', 'abrogation', 'abrogations', 'absolve', 'absolved', 'absolves']\n"
     ]
    }
   ],
   "source": [
    "print(\"Positive Examples:\", pos_list[:10], \"\\n\")\n",
    "print(\"Negative Examples:\", neg_list[:10], \"\\n\")\n",
    "print(\"Uncertain Examples:\", uncertain_list[:10], \"\\n\")\n",
    "print(\"Litigious Examples:\", litigious_list[:10])"
   ]
  },
  {
   "cell_type": "code",
   "execution_count": 551,
   "metadata": {},
   "outputs": [],
   "source": [
    "#will be used later for measuring syllables\n",
    "cmu_dict = nltk.corpus.cmudict.dict()"
   ]
  },
  {
   "cell_type": "markdown",
   "metadata": {},
   "source": [
    "# Helper Functions\n",
    "Define user-defined functions to make later analysis more readable."
   ]
  },
  {
   "cell_type": "code",
   "execution_count": 552,
   "metadata": {},
   "outputs": [],
   "source": [
    "#apply word weights to list of word counts, return score for input sentiment\n",
    "#(pos, neg, uncertain, litigious)\n",
    "#extra_words can act as Laplace Smoothing\n",
    "def score_counts(d, word_sentiment_list, extra_words = 0):\n",
    "    #accumulate weights in this variable\n",
    "    score = 0\n",
    "    #count total words in the passage\n",
    "    counter = d[\"counter\"]\n",
    "    total_tokens = sum(counter.values())\n",
    "    #check for empty files\n",
    "    if total_tokens == 0:\n",
    "        return 0\n",
    "    \n",
    "    #for each word look up its score\n",
    "    for word in counter.keys():\n",
    "        if word in word_sentiment_list:\n",
    "            score += counter[word]\n",
    "    \n",
    "    #normalize score for document length\n",
    "    return score / (total_tokens + extra_words)"
   ]
  },
  {
   "cell_type": "code",
   "execution_count": 553,
   "metadata": {},
   "outputs": [],
   "source": [
    "#need to do pos with pos and neg with neg\n",
    "#used for finding negation with positive sentiment words and then adding this to negative score\n",
    "def score_counts_negative(d, pos, neg, extra_words = 0, num_before = 3):\n",
    "    score = 0\n",
    "    lst = d[\"tokens\"]\n",
    "    total_tokens = len(lst)\n",
    "    if total_tokens == 0:\n",
    "        return 0\n",
    "    \n",
    "    for i, word in enumerate(lst):\n",
    "        if word in pos:\n",
    "            preceding = lst[(i-num_before):i]\n",
    "            found_negation = False\n",
    "            k = 0\n",
    "            while k < len(preceding) and found_negation == False:\n",
    "                if preceding[k] in negation_list:\n",
    "                    found_negation = True\n",
    "                k+=1\n",
    "            if found_negation:\n",
    "                score += 1\n",
    "        elif word in neg:\n",
    "            score += 1\n",
    "    return score / (total_tokens + extra_words)"
   ]
  },
  {
   "cell_type": "code",
   "execution_count": 554,
   "metadata": {},
   "outputs": [],
   "source": [
    "#used for finding positive sentiment excluding words with negations preceding\n",
    "def score_counts_positive(d, pos, extra_words = 0, num_before = 3):\n",
    "    score = 0\n",
    "    lst = d[\"tokens\"]\n",
    "    total_tokens = len(lst)\n",
    "    if total_tokens == 0:\n",
    "        return 0\n",
    "    \n",
    "    for i, word in enumerate(lst):\n",
    "        if word in pos:\n",
    "            preceding = lst[(i-num_before):i]\n",
    "            found_negation = False\n",
    "            k = 0\n",
    "            while k < len(preceding) and found_negation == False:\n",
    "                if preceding[k] in negation_list:\n",
    "                    found_negation = True\n",
    "                k+=1\n",
    "            if not found_negation:\n",
    "                score += 1\n",
    "    return score / (total_tokens + extra_words)"
   ]
  },
  {
   "cell_type": "code",
   "execution_count": 555,
   "metadata": {},
   "outputs": [],
   "source": [
    "#input, dictionary element\n",
    "#average word length of document sentences\n",
    "def calc_avg_words_per_sentence(d):\n",
    "    sentence_list = nltk.sent_tokenize(d[\"content\"])\n",
    "    num_words = len(d[\"tokens\"])\n",
    "    total_number_sentences = len(sentence_list)\n",
    "    return num_words/total_number_sentences"
   ]
  },
  {
   "cell_type": "code",
   "execution_count": 651,
   "metadata": {},
   "outputs": [
    {
     "name": "stdout",
     "output_type": "stream",
     "text": [
      "Average Words Per Sentence: 21.420783645655877\n"
     ]
    }
   ],
   "source": [
    "print(\"Average Words Per Sentence:\", calc_avg_words_per_sentence(test))"
   ]
  },
  {
   "cell_type": "code",
   "execution_count": 557,
   "metadata": {},
   "outputs": [],
   "source": [
    "#input, CMU's provided dictionary for finding syllables in words\n",
    "#user-determined syllable count cutoff\n",
    "#output, list of words satisfying syllable minimum\n",
    "def create_polly_syllabic_word_list(syllable_dict, syllable_cutoff = 3):\n",
    "    my_dictionary = {}\n",
    "    for key in syllable_dict:\n",
    "        tmp_count = [len(list(y for y in l if y[-1].isdigit())) for l in syllable_dict[key]]\n",
    "        tmp_count = tmp_count[0]\n",
    "        if tmp_count >= syllable_cutoff:\n",
    "            my_dictionary[key] = tmp_count\n",
    "    poly_keys = my_dictionary.keys()\n",
    "    \n",
    "    return poly_keys"
   ]
  },
  {
   "cell_type": "code",
   "execution_count": null,
   "metadata": {},
   "outputs": [],
   "source": [
    "poly_word_list = list(create_polly_syllabic_word_list(cmu_dict, 3))"
   ]
  },
  {
   "cell_type": "code",
   "execution_count": 654,
   "metadata": {},
   "outputs": [
    {
     "name": "stdout",
     "output_type": "stream",
     "text": [
      "Number of words with 3+ syllables: 50229\n",
      "Some Examples: ['acrobatic', 'acrobatics', 'acrobats', 'acrolein', 'acronym', 'acronyms', 'acropolis', 'acrylic', 'acrylics', 'actava', \"actava's\", 'actavas', 'actigall', 'actinide', 'actinidia']\n"
     ]
    }
   ],
   "source": [
    "print(\"Number of words with 3+ syllables:\", len(poly_word_list))\n",
    "print(\"Some Examples:\", list(poly_word_list)[500:515])"
   ]
  },
  {
   "cell_type": "code",
   "execution_count": 559,
   "metadata": {},
   "outputs": [],
   "source": [
    "#write out poly syllable word list so do not need to do generation again\n",
    "file = open('poly_word_list.txt', 'w')\n",
    "for word in poly_word_list:\n",
    "    file.write(word)\n",
    "    file.write('\\n')\n",
    "file.close()"
   ]
  },
  {
   "cell_type": "code",
   "execution_count": 560,
   "metadata": {},
   "outputs": [],
   "source": [
    "def calc_percent_poly_words(d, eligible):\n",
    "    total_words = len(d[\"tokens\"])\n",
    "    score = 0\n",
    "    toks_set = set(d[\"tokens\"])\n",
    "    eligible_set = set(eligible)\n",
    "    intersection = list(toks_set.intersection(eligible_set))\n",
    "    if len(intersection) == 0:\n",
    "        return 0\n",
    "    else:\n",
    "        counter = d[\"counter\"]\n",
    "        for key in intersection:\n",
    "            score += counter[key]\n",
    "    return score/total_words"
   ]
  },
  {
   "cell_type": "code",
   "execution_count": 660,
   "metadata": {},
   "outputs": [
    {
     "name": "stdout",
     "output_type": "stream",
     "text": [
      "Percent of 3+ Syllable Words: 11.39%\n"
     ]
    }
   ],
   "source": [
    "print(\"Percent of 3+ Syllable Words:\", str(calc_percent_poly_words(test, poly_word_list)*100)[:5] + \"%\")\n"
   ]
  },
  {
   "cell_type": "markdown",
   "metadata": {},
   "source": [
    "# Main\n",
    "This section adds more information to earnings call dictionaries: pos score, neg score, uncertain score, litigious score, average words per sentence, proportion of words with 3+ syllables, and gunning-fog index) "
   ]
  },
  {
   "cell_type": "code",
   "execution_count": 661,
   "metadata": {},
   "outputs": [],
   "source": [
    "for call in call_list:\n",
    "    call[\"pos_score\"] = score_counts_positive(call, pos_list) * 100\n",
    "    call[\"neg_score\"] = score_counts_negative(call, pos_list, neg_list) * 100\n",
    "    call[\"uncertain_score\"] = score_counts(call, uncertain_list) * 100\n",
    "    call[\"lit_score\"] = score_counts(call, litigious_list) * 100\n",
    "    call[\"avg_words_per_sentence\"] = calc_avg_words_per_sentence(call)\n",
    "    call[\"poly_word_percent\"] = calc_percent_poly_words(call, poly_word_list)\n",
    "    call[\"fog_index\"] = 0.4 * call[\"avg_words_per_sentence\"] + 100 * call[\"poly_word_percent\"]\n"
   ]
  },
  {
   "cell_type": "code",
   "execution_count": 664,
   "metadata": {},
   "outputs": [
    {
     "name": "stdout",
     "output_type": "stream",
     "text": [
      "19.96484598569992\n",
      "21.452692267122373\n",
      "19.24924529680603\n",
      "19.40581145441856\n",
      "19.659593678283372\n",
      "20.20336193528378\n",
      "19.61299045699238\n",
      "19.374034281691866\n",
      "18.812104845325713\n",
      "20.044547306244745\n"
     ]
    }
   ],
   "source": [
    "for call in call_list[:10]:\n",
    "    print(call[\"fog_index\"])"
   ]
  },
  {
   "cell_type": "markdown",
   "metadata": {},
   "source": [
    "# Visualize"
   ]
  },
  {
   "cell_type": "code",
   "execution_count": 671,
   "metadata": {},
   "outputs": [
    {
     "name": "stdout",
     "output_type": "stream",
     "text": [
      "12_02_10: 10.81\n",
      "03_03_11: 11.51\n",
      "06_16_11: 11.99\n",
      "09_09_11: 11.01\n",
      "12_01_11: 11.68\n",
      "03_01_12: 12.22\n",
      "06_14_12: 11.29\n",
      "09_07_12: 11.36\n",
      "11_29_12: 13.12\n",
      "03_07_13: 15.12\n"
     ]
    }
   ],
   "source": [
    "#reads file to two lists\n",
    "#dates holds ordered list of dates of earnings calls\n",
    "#prices holds ordered list of closing stock prices on date of earnings calls\n",
    "prices = []\n",
    "dates = []\n",
    "with open(\"relevant_kr_stock_prices.csv\") as read_obj:\n",
    "    csv_reader = reader(read_obj)\n",
    "    for row in csv_reader:\n",
    "        dates.append(row[0])\n",
    "        prices.append(float(row[1]))\n",
    "for i in range(10):\n",
    "    print(str(dates[i]) + \":\", str(prices[i])[:5])"
   ]
  },
  {
   "cell_type": "code",
   "execution_count": 672,
   "metadata": {},
   "outputs": [
    {
     "name": "stdout",
     "output_type": "stream",
     "text": [
      "Fog Index: [19.96484598569992, 21.452692267122373, 19.24924529680603, 19.40581145441856, 19.659593678283372]\n",
      "Negativity: [1.0975027835215523, 0.8103557145864029, 0.8986766739087498, 0.7800157977883095, 0.753537952582246]\n",
      "Positivity: [1.5110545570224272, 1.6417596295516732, 1.3727039304760025, 1.253949447077409, 1.4886969307112663]\n"
     ]
    }
   ],
   "source": [
    "fog_index = []\n",
    "negativity = []\n",
    "positivity = []\n",
    "scaled_neg = []\n",
    "scaled_pos = []\n",
    "for call in call_list:\n",
    "    fog_index.append(call[\"fog_index\"])\n",
    "    negativity.append(call[\"neg_score\"])\n",
    "    scaled_neg.append(call[\"neg_score\"]*30)\n",
    "    scaled_pos.append(call[\"pos_score\"]*30)\n",
    "    positivity.append(call[\"pos_score\"])\n",
    "print(\"Fog Index:\", fog_index[:5])\n",
    "print(\"Negativity:\", negativity[:5])\n",
    "print(\"Positivity:\", positivity[:5])"
   ]
  },
  {
   "cell_type": "code",
   "execution_count": 673,
   "metadata": {},
   "outputs": [],
   "source": [
    "def gen_delta(lst):\n",
    "    i = 1\n",
    "    result = [0]\n",
    "    while i < len(lst):\n",
    "        curr = lst[i]\n",
    "        past = lst[i-1]\n",
    "        delta = ((curr-past)/past)*100\n",
    "        result.append(delta)\n",
    "        i+=1\n",
    "    return result"
   ]
  },
  {
   "cell_type": "code",
   "execution_count": 617,
   "metadata": {},
   "outputs": [],
   "source": [
    "def gen_delta_full_year(lst):\n",
    "    i = 4\n",
    "    result = [0, 0, 0, 0]\n",
    "    while i < len(lst):\n",
    "        curr = lst[i]\n",
    "        past = lst[i-1]\n",
    "        delta = ((curr-past)/past)*100\n",
    "        result.append(delta)\n",
    "        i+=1\n",
    "    return result"
   ]
  },
  {
   "cell_type": "code",
   "execution_count": 708,
   "metadata": {},
   "outputs": [],
   "source": [
    "def gen_change_from_baseline(lst):\n",
    "    avg = sum(lst)/len(lst)\n",
    "    i = 0\n",
    "    result = []\n",
    "    while i < len(lst):\n",
    "        curr = lst[i]\n",
    "        percent_diff = ((curr-avg)/avg)*100\n",
    "        result.append(percent_diff)\n",
    "        i+=1\n",
    "    return result"
   ]
  },
  {
   "cell_type": "code",
   "execution_count": 711,
   "metadata": {},
   "outputs": [],
   "source": [
    "def gen_abs_change_from_avg(lst):\n",
    "    avg = sum(lst)/len(lst)\n",
    "    print(avg)\n",
    "    i = 0\n",
    "    result = []\n",
    "    while i < len(lst):\n",
    "        curr = lst[i]\n",
    "        print(curr)\n",
    "        diff = 1+(avg - curr)\n",
    "        result.append(diff)\n",
    "        i+=1\n",
    "    return result"
   ]
  },
  {
   "cell_type": "code",
   "execution_count": 712,
   "metadata": {},
   "outputs": [
    {
     "name": "stdout",
     "output_type": "stream",
     "text": [
      "0.7304537250057461\n",
      "1.0975027835215523\n",
      "0.8103557145864029\n",
      "0.8986766739087498\n",
      "0.7800157977883095\n",
      "0.753537952582246\n",
      "0.7529411764705882\n",
      "0.749976563232399\n",
      "0.6211180124223602\n",
      "0.6924260557360232\n",
      "0.5746061167747915\n",
      "0.7214585161353222\n",
      "0.5660558380504653\n",
      "1.0110584518167456\n",
      "0.7527565733672603\n",
      "0.7619047619047619\n",
      "0.8398603378314616\n",
      "0.7864198714874845\n",
      "0.7036059806508356\n",
      "0.6936303243454474\n",
      "0.6954793840039741\n",
      "0.6016597510373445\n",
      "0.7971490199756166\n",
      "0.8247007945288142\n",
      "0.8561473369835738\n",
      "1.0034493571652556\n",
      "0.89220111262727\n",
      "0.7970871875615037\n",
      "0.6986314479854532\n",
      "0.7068256145162992\n",
      "0.5728643216080402\n",
      "0.5981092031641907\n",
      "0.6263701847792045\n",
      "0.7048362611147256\n",
      "0.6036423163494986\n",
      "0.5815119310206537\n",
      "0.5341181600174406\n",
      "0.49037749814951886\n",
      "0.5963397079991775\n",
      "0.7254646234104989\n",
      "0.7432762836185819\n"
     ]
    }
   ],
   "source": [
    "neg_delta_full_year = gen_delta_full_year(negativity)\n",
    "neg_change_from_avg = gen_change_from_baseline(negativity)\n",
    "neg_delta = gen_delta(negativity)\n",
    "pos_delta = gen_delta(positivity)\n",
    "fog_delta = gen_delta(fog_index)\n",
    "price_delta = gen_delta(prices)[1:]\n",
    "price_delta.append(0)\n",
    "\n",
    "testing = gen_abs_change_from_avg(negativity)"
   ]
  },
  {
   "cell_type": "code",
   "execution_count": 713,
   "metadata": {},
   "outputs": [
    {
     "name": "stdout",
     "output_type": "stream",
     "text": [
      "6.845364432151556 11.51\n",
      "10.59032809992664 11.995\n",
      "9.97716572790847 11.01\n",
      "10.464321578663977 11.685\n",
      "11.4152608007686 12.22\n",
      "11.94520334309963 11.29\n",
      "11.069587156421088 11.365\n",
      "12.60760037351018 13.125\n",
      "13.62411315916511 15.125\n",
      "17.482195074493188 16.49\n",
      "16.63833099427329 19.309999\n",
      "22.48452203270859 20.030001\n",
      "14.409488041370953 21.684999\n",
      "21.201361755583413 24.83\n",
      "24.049070753797437 26.084999\n",
      "23.231127613847825 30.379999\n",
      "28.679747525850935 37.154999\n",
      "38.15252691465896 36.77\n",
      "38.123996442279186 37.290001\n",
      "38.59419421093042 39.91\n",
      "45.0501675010789 37.799999\n",
      "35.27891691683419 35.470001\n",
      "32.12705734976971 31.51\n",
      "27.54939428657865 33.360001\n",
      "24.252866438163128 30.67\n",
      "25.709207621647863 24.559999\n",
      "22.92348122626406 21.059999\n",
      "21.730176122225092 25.860001\n",
      "26.47102396088521 22.98\n",
      "26.601404490079283 28.73\n",
      "32.53225811250789 28.58\n",
      "31.55470757967456 29.559999\n",
      "30.317251207001103 25.610001\n",
      "28.857641302497907 23.129999\n",
      "26.575022545933397 25.59\n",
      "30.614227108050734 26.799999\n",
      "33.234041639670664 33.470001\n",
      "37.958797283323875 31.809999\n",
      "31.968702316755714 34.369999\n"
     ]
    }
   ],
   "source": [
    "r = []\n",
    "for i, price in enumerate(prices):\n",
    "    temp = prices[i] * testing[i]\n",
    "    r.append(temp)\n",
    "    if i < (len(prices) - 1):\n",
    "        print(temp, prices[i+1])\n",
    "    "
   ]
  },
  {
   "cell_type": "code",
   "execution_count": 704,
   "metadata": {
    "scrolled": false
   },
   "outputs": [
    {
     "data": {
      "image/png": "[encoded data removed]",
      "text/plain": [
       "<Figure size 1008x360 with 1 Axes>"
      ]
     },
     "metadata": {
      "needs_background": "light"
     },
     "output_type": "display_data"
    }
   ],
   "source": [
    "#percent change negativity vs. stock price\n",
    "\n",
    "plt.figure(figsize=(14,5))\n",
    "plt.ylabel(\"% Difference\")\n",
    "plt.xlabel(\"Time\")\n",
    "plt.plot(dates, price_delta, marker = 'o', c='b', label='price')\n",
    "#plt.plot(neg_delta, marker = 'o', c='orange', label='negative sentiment')\n",
    "plt.plot(neg_change_from_avg, marker = 'o', c='orange', label='negative sentiment')\n",
    "#plt.plot(fog_delta, marker = 'o', c='green', label='test')\n",
    "plt.legend()\n",
    "plt.xticks(rotation=90)\n",
    "plt.title(\"% change in stock price and % change in negative sentiment from avg\")\n",
    "plt.show()"
   ]
  },
  {
   "cell_type": "code",
   "execution_count": 696,
   "metadata": {},
   "outputs": [
    {
     "name": "stdout",
     "output_type": "stream",
     "text": [
      "[1.0975027835215523, 0.8103557145864029, 0.8986766739087498, 0.7800157977883095, 0.753537952582246, 0.7529411764705882, 0.749976563232399, 0.6211180124223602, 0.6924260557360232, 0.5746061167747915, 0.7214585161353222, 0.5660558380504653, 1.0110584518167456, 0.7527565733672603, 0.7619047619047619, 0.8398603378314616, 0.7864198714874845, 0.7036059806508356, 0.6936303243454474, 0.6954793840039741, 0.6016597510373445, 0.7971490199756166, 0.8247007945288142, 0.8561473369835738, 1.0034493571652556, 0.89220111262727, 0.7970871875615037, 0.6986314479854532, 0.7068256145162992, 0.5728643216080402, 0.5981092031641907, 0.6263701847792045, 0.7048362611147256, 0.6036423163494986, 0.5815119310206537, 0.5341181600174406, 0.49037749814951886, 0.5963397079991775, 0.7254646234104989, 0.7432762836185819]\n",
      "[50.24946084201552, 10.93867918601253, 23.029925530420204, 6.785107815306649, 3.1602587249888097, 3.0785593522252492, 2.6727002078741307, -14.968191528152703, -5.206033998857867, -21.33572639796295, -1.231454993312981, -22.506269915180123, 38.41512709224559, 3.0532869637072144, 4.305685058799355, 14.977897857233168, 7.661833264153469, -3.6754887319794767, -5.041168167088079, -4.7880296594417215, -17.632051088162836, 9.130666692040734, 12.902538011196624, 17.207607775131674, 37.37343281497565, 22.14341334493865, 9.122201759630064, -4.356508281211464, -3.2347169547613763, -21.57418026671932, -18.11812539398226, -14.249162768760318, -3.507061845816306, -17.360635494774147, -20.390312060345888, -26.87857673485901, -32.866726342498794, -18.360371426063114, -0.6830140533827778, 1.755423810417956]\n"
     ]
    }
   ],
   "source": [
    "print(negativity)\n",
    "print(neg_change_from_avg)"
   ]
  },
  {
   "cell_type": "code",
   "execution_count": 692,
   "metadata": {},
   "outputs": [
    {
     "data": {
      "image/png": "[encoded data removed]",
      "text/plain": [
       "<Figure size 1008x360 with 1 Axes>"
      ]
     },
     "metadata": {
      "needs_background": "light"
     },
     "output_type": "display_data"
    }
   ],
   "source": [
    "#absolute change negativity (scaled) vs. stock price\n",
    "plt.figure(figsize=(14,5))\n",
    "plt.ylabel(\"Price/Sentiment Score\")\n",
    "plt.xlabel(\"Time\")\n",
    "plt.plot(dates, prices, c='b', marker = 'o', label='price')\n",
    "plt.plot(scaled_neg, c='orange', marker = 'o', label='negative sentiment')\n",
    "#plt.plot(fog_index, c='green', marker = 'o', label='test')\n",
    "plt.legend()\n",
    "plt.xticks(rotation=90)\n",
    "plt.title(\"Scaled Negativity and Absolute Stock Price\")\n",
    "plt.show()"
   ]
  },
  {
   "cell_type": "markdown",
   "metadata": {},
   "source": [
    "# Automated Data Scraping"
   ]
  },
  {
   "cell_type": "code",
   "execution_count": 571,
   "metadata": {},
   "outputs": [
    {
     "name": "stdout",
     "output_type": "stream",
     "text": [
      "12_02_10\n",
      "2010-12-02\n",
      "03_03_11\n",
      "2011-03-03\n",
      "06_16_11\n",
      "2011-06-16\n",
      "09_09_11\n",
      "2011-09-09\n",
      "12_01_11\n",
      "2011-12-01\n"
     ]
    }
   ],
   "source": [
    "#these vectors are built above, don't be redundant\n",
    "#year_vec = [str(i) for i in range(2010,2021)]\n",
    "#quarter_vec = ['q1', 'q2', 'q3', 'q4']\n",
    "months = {'January': '01', 'February': '02', 'March': '03', 'April': '04', 'May': '05', 'June': '06', 'July': '07', 'August': '08', 'September': '09', 'October': '10', 'November': '11', 'December': '12'}\n",
    "date_format_lst = []\n",
    "date_idx_lst = []\n",
    "for year in year_vec:\n",
    "    for quarter in quarter_vec:\n",
    "        fn = \"raw_data/kr/kr_\" + year + \"_\" + quarter + \".txt\"\n",
    "        if os.path.isfile(fn):\n",
    "            file = open(fn, 'r')\n",
    "            line = file.readline()\n",
    "            line = line.split()\n",
    "            idx = line.index(\"Call\")\n",
    "            \n",
    "            m = months[line[idx+1]]\n",
    "            d = line[idx+2][:-1]\n",
    "            if len(d) == 1:\n",
    "                d = \"0\" + d\n",
    "            y = line[idx+3]\n",
    "            date_string = m + \"_\" + d + \"_\" + y[2:]\n",
    "            date_idx = y + \"-\" + m + \"-\" + d\n",
    "            date_idx_lst.append(date_idx)\n",
    "            date_format_lst.append(date_string)\n",
    "            \n",
    "for i, _ in enumerate(date_format_lst[:5]):\n",
    "    print(date_format_lst[i])\n",
    "    print(date_idx_lst[i])\n",
    "file.close()"
   ]
  },
  {
   "cell_type": "code",
   "execution_count": 693,
   "metadata": {},
   "outputs": [],
   "source": [
    "#with access to all closing prices of stock for last decade, \n",
    "#identify closing price on dates of earnings calls\n",
    "#save to fn filepath\n",
    "fn = \"relevant_kr_stock_prices.csv\"\n",
    "file = open(fn,'w')\n",
    "with open(\"historical_kr_stock_price.csv\") as read_obj:\n",
    "    csv_reader = reader(read_obj)\n",
    "    i = 0\n",
    "    for row in csv_reader:\n",
    "        if row[0] == date_idx_lst[i]:\n",
    "            date = date_format_lst[i]\n",
    "            close_price = row[4]\n",
    "            i+=1\n",
    "            file.write(date + \",\" + close_price + '\\n')\n",
    "file.close()"
   ]
  },
  {
   "cell_type": "code",
   "execution_count": null,
   "metadata": {},
   "outputs": [],
   "source": []
  },
  {
   "cell_type": "code",
   "execution_count": null,
   "metadata": {},
   "outputs": [],
   "source": []
  }
 ],
 "metadata": {
  "kernelspec": {
   "display_name": "Python 3",
   "language": "python",
   "name": "python3"
  },
  "language_info": {
   "codemirror_mode": {
    "name": "ipython",
    "version": 3
   },
   "file_extension": ".py",
   "mimetype": "text/x-python",
   "name": "python",
   "nbconvert_exporter": "python",
   "pygments_lexer": "ipython3",
   "version": "3.8.3"
  }
 },
 "nbformat": 4,
 "nbformat_minor": 4
}
